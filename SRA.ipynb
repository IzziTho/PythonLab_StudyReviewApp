{
 "cells": [
  {
   "cell_type": "code",
   "execution_count": 1,
   "metadata": {},
   "outputs": [
    {
     "name": "stdout",
     "output_type": "stream",
     "text": [
      "Press [a] to start a study review, press [b] to add a question to your list\n"
     ]
    }
   ],
   "source": [
    "\n",
    "\n",
    "current_task = \"\"\n",
    "while current_task != \"q\":\n",
    "    print(\"Press [a] to start a study review, press [b] to add a question to your list\")\n",
    "    current_task = input(\"What would you like to do?\")\n",
    "\n",
    "    if current_task == \"a\":\n",
    "        print(\"start_study_review()\")\n",
    "    elif current_task == \"b\":\n",
    "        print(\"add_question()\")\n",
    "    else:\n",
    "        print(\"Sorry, I don't understand that command, please try again\")\n",
    "\n",
    "# write a bit of code to quit the input box\n",
    "        "
   ]
  }
 ],
 "metadata": {
  "kernelspec": {
   "display_name": "Python 3",
   "language": "python",
   "name": "python3"
  },
  "language_info": {
   "codemirror_mode": {
    "name": "ipython",
    "version": 3
   },
   "file_extension": ".py",
   "mimetype": "text/x-python",
   "name": "python",
   "nbconvert_exporter": "python",
   "pygments_lexer": "ipython3",
   "version": "3.6.5"
  }
 },
 "nbformat": 4,
 "nbformat_minor": 2
}
