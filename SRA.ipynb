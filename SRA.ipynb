{
 "cells": [
  {
   "cell_type": "code",
   "execution_count": null,
   "metadata": {},
   "outputs": [],
   "source": [
    "import csv\n",
    "\n",
    "\n",
    "# function to print out all questions in csv file\n",
    "def view_all_questions():\n",
    "    with open (\"questions.csv\", \"r\") as file:\n",
    "        csv_reader = csv.reader(file)\n",
    "        for line in csv_reader:\n",
    "            print(line)\n",
    "\n",
    "current_task = \"\"\n",
    "while current_task != \"q\":\n",
    "    print(\"Press [a] to start a study review, press [b] to add a question to your list, press [p] to print all the questions in your list, or [q] to quit.\")\n",
    "    current_task = input(\"What would you like to do?\")\n",
    "\n",
    "    if current_task == \"a\":\n",
    "        print(\"start_study_review()\")\n",
    "    elif current_task == \"b\":\n",
    "        print(\"add_question()\")\n",
    "    elif current_task == \"p\":\n",
    "        view_all_questions()\n",
    "    else:\n",
    "        print(\"Sorry, I don't understand that command, please try again\")\n",
    "\n",
    "# write a bit of code to quit the input box\n",
    "        \n",
    "\n",
    "\n",
    "# view_all_questions()"
   ]
  }
 ],
 "metadata": {
  "kernelspec": {
   "display_name": "Python 3",
   "language": "python",
   "name": "python3"
  },
  "language_info": {
   "codemirror_mode": {
    "name": "ipython",
    "version": 3
   },
   "file_extension": ".py",
   "mimetype": "text/x-python",
   "name": "python",
   "nbconvert_exporter": "python",
   "pygments_lexer": "ipython3",
   "version": "3.6.5"
  }
 },
 "nbformat": 4,
 "nbformat_minor": 2
}
